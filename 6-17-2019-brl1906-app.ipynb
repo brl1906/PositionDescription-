{
 "cells": [
  {
   "cell_type": "code",
   "execution_count": 1,
   "metadata": {},
   "outputs": [],
   "source": [
    "## module is test of what the .py module should be"
   ]
  },
  {
   "cell_type": "code",
   "execution_count": 85,
   "metadata": {},
   "outputs": [],
   "source": [
    "import yaml\n",
    "\n",
    "from chart import publish_chart\n",
    "from positions import Position"
   ]
  },
  {
   "cell_type": "code",
   "execution_count": null,
   "metadata": {},
   "outputs": [],
   "source": []
  },
  {
   "cell_type": "code",
   "execution_count": 78,
   "metadata": {},
   "outputs": [],
   "source": [
    "def get_position_data(file):\n",
    "    \"\"\"Parse yaml document containing data on each available position.\n",
    "    Function parses a yaml document into stream and laods into a Python object.\n",
    "    \n",
    "    Parameters\n",
    "    ----------\n",
    "    file: Str\n",
    "        Yaml file containing the information on each position. Each position in \n",
    "        the Yaml file has an attribute corresponding to the attributes for the \n",
    "        Position class. \n",
    "        \n",
    "    Returns\n",
    "    -------\n",
    "    dict:  Returns dictionary of the parsed Yaml file. The dictionary has key value \n",
    "           pairs for the position as keys and the corresponding attirbutes for the \n",
    "           position as values. \n",
    "           \n",
    "    Example\n",
    "    -------\n",
    "    >>> get_position_data(file='data/position_data.yaml') # returns dict of positions & attributes\n",
    "    \"\"\"\n",
    "    stream = open(file, mode='r')\n",
    "    data = yaml.safe_load(stream)\n",
    "    \n",
    "    return data\n",
    "    \n",
    "\n",
    "def generate_jobs(data):\n",
    "    \"\"\"Generate new instance of the Position class for each job found in the data.\n",
    "    \n",
    "    Function uses the parsed data from yaml file containing positions and position data\n",
    "    and for each job it creates an instance of the Position class, storing each \n",
    "    instances in a dictionary.\n",
    "    \n",
    "    Parameters\n",
    "    ----------\n",
    "    data:   dict\n",
    "         dictionary of the parsed Yaml file. The dictionary has key value pairs for \n",
    "         the position as keys and the corresponding attirbutes for the position as values.\n",
    "         \n",
    "    Returns\n",
    "    -------\n",
    "    dict:  Returns dictionary with key value pairs for the job and attributes of the job.\n",
    "    \n",
    "    Example\n",
    "    -------\n",
    "    >>> generate_jobs(data=position_data)\n",
    "    \n",
    "    >>> generate_jobs(get_position_data(file='data/position_data.yaml'))\n",
    "    \"\"\"\n",
    "   \n",
    "    jobs = {}\n",
    "    for job in data:\n",
    "        jobs[job] = Position(title=data[job]['title'],\n",
    "                            about_job=data[job]['description'],\n",
    "                            workplan=data[job]['workplan'])\n",
    "    \n",
    "    return jobs\n",
    "\n",
    "def show_all_positions(file):\n",
    "    \"\"\"Return list of all positions available.\n",
    "    \n",
    "    Parameters\n",
    "    ----------\n",
    "    file:  Str\n",
    "        Yaml file containing the information on each position. Each position in \n",
    "        the Yaml file has an attribute corresponding to the attributes for the \n",
    "        Position class. \n",
    "    \n",
    "    Returns\n",
    "    -------\n",
    "    list:  Returns list of positions available in Yaml file containing positions. \n",
    "    \n",
    "    Example\n",
    "    -------\n",
    "    >>> show_all_positions(file='data/positions_data.yaml')\n",
    "        \n",
    "    \"\"\"\n",
    "    \n",
    "    try:\n",
    "        data = get_position_data(file)\n",
    "    \n",
    "    except Exception as e:\n",
    "        return e\n",
    "    \n",
    "    try:\n",
    "        positions = []\n",
    "        for position in data.keys():\n",
    "            positions.append(position)\n",
    "    \n",
    "        return positions\n",
    "    \n",
    "    except Exception as e:\n",
    "        return e\n",
    "    \n",
    "\n",
    "def show_position_titles(file):\n",
    "    \"\"\"Return list of all position job titles.\n",
    "    \n",
    "    Parameters\n",
    "    ----------\n",
    "    file:  Str\n",
    "        Yaml file containing the information on each position. Each position in \n",
    "        the Yaml file has an attribute corresponding to the attributes for the \n",
    "        Position class. \n",
    "    \n",
    "    Returns\n",
    "    -------\n",
    "    list:  Returns list of job titles for each position available in the Yaml file \n",
    "    containing positions. \n",
    "    \n",
    "    Example\n",
    "    -------\n",
    "    >>> show_position_titles(file='data/positions_data.yaml')\n",
    "        \n",
    "    \"\"\"\n",
    "    \n",
    "    try:\n",
    "        data = get_position_data(file)\n",
    "        \n",
    "    except Exception as e:\n",
    "        return e\n",
    "    \n",
    "    try:\n",
    "        jobs = generate_jobs(data)\n",
    "    \n",
    "    except Exception as e:\n",
    "        return e\n",
    "    \n",
    "    try:\n",
    "        titles = []\n",
    "        for job in jobs:\n",
    "            titles.append(jobs[job].title)\n",
    "            \n",
    "        return titles\n",
    "    \n",
    "    except Exception as e:\n",
    "        return e\n",
    "    \n",
    "\n"
   ]
  },
  {
   "cell_type": "code",
   "execution_count": 79,
   "metadata": {},
   "outputs": [],
   "source": [
    "data = get_position_data(file='data/position_data.yaml')\n",
    "jobs = generate_jobs(data=data)"
   ]
  },
  {
   "cell_type": "code",
   "execution_count": 83,
   "metadata": {},
   "outputs": [
    {
     "data": {
      "text/plain": [
       "'https://plot.ly/~brl1906/6'"
      ]
     },
     "execution_count": 83,
     "metadata": {},
     "output_type": "execute_result"
    }
   ],
   "source": [
    "chart.publish_chart(jobs['paperless manager'], fileoption='overwrite')"
   ]
  },
  {
   "cell_type": "code",
   "execution_count": 84,
   "metadata": {},
   "outputs": [
    {
     "data": {
      "text/plain": [
       "'https://plot.ly/~brl1906/6'"
      ]
     },
     "execution_count": 84,
     "metadata": {},
     "output_type": "execute_result"
    }
   ],
   "source": [
    "chart.publish_chart(jobs['executive fellow'], fileoption='overwrite')"
   ]
  },
  {
   "cell_type": "code",
   "execution_count": null,
   "metadata": {},
   "outputs": [],
   "source": []
  },
  {
   "cell_type": "code",
   "execution_count": 94,
   "metadata": {},
   "outputs": [],
   "source": []
  },
  {
   "cell_type": "code",
   "execution_count": null,
   "metadata": {},
   "outputs": [],
   "source": []
  },
  {
   "cell_type": "code",
   "execution_count": null,
   "metadata": {},
   "outputs": [],
   "source": []
  },
  {
   "cell_type": "code",
   "execution_count": 116,
   "metadata": {},
   "outputs": [],
   "source": []
  },
  {
   "cell_type": "code",
   "execution_count": null,
   "metadata": {},
   "outputs": [],
   "source": []
  },
  {
   "cell_type": "code",
   "execution_count": null,
   "metadata": {},
   "outputs": [],
   "source": []
  }
 ],
 "metadata": {
  "kernelspec": {
   "display_name": "Python 3",
   "language": "python",
   "name": "python3"
  },
  "language_info": {
   "codemirror_mode": {
    "name": "ipython",
    "version": 3
   },
   "file_extension": ".py",
   "mimetype": "text/x-python",
   "name": "python",
   "nbconvert_exporter": "python",
   "pygments_lexer": "ipython3",
   "version": "3.7.3"
  }
 },
 "nbformat": 4,
 "nbformat_minor": 2
}
